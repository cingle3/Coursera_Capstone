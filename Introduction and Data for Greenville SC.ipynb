{
 "cells": [
  {
   "cell_type": "markdown",
   "metadata": {},
   "source": [
    "# Applied Data Science Capstone\n",
    "##### This introductory notebook will define the problem and pose a solution."
   ]
  },
  {
   "cell_type": "markdown",
   "metadata": {},
   "source": [
    "## Introduction to the Problem \n",
    "#### Due to covid-19, big cities are experiencing a mass exodus. Some of these people are fleeing to their city's surrounding Subarbs, while others seek an entirely new region. For this project, we are going to target Greenville, SC and its surrounding subarbs as our destination. Greenville is a rapidly growing mid size city in the upstate region of South Carolina and for a small city, it has a diverse economy with plenty to do. The goal will be to analyze each area's access to dining, groceries, business and entertainment by using Foursquare's API. "
   ]
  },
  {
   "cell_type": "markdown",
   "metadata": {},
   "source": [
    "###### The data has been cleaned and downloaded to a CSV file after being queried from the following site: http://www.geonames.org/postal-codes/US/SC/045/greenville.html. We will be using Postal codes, latitude and longitude, along with Foursquare's API, to explore the Upstate, SC region."
   ]
  },
  {
   "cell_type": "code",
   "execution_count": 1,
   "metadata": {},
   "outputs": [],
   "source": [
    "#Import libraries to give a brief visual of the data which will be used to pair with Foursquare's API.\n",
    "\n",
    "import pandas as pd\n",
    "import numpy as np"
   ]
  },
  {
   "cell_type": "code",
   "execution_count": 2,
   "metadata": {},
   "outputs": [
    {
     "data": {
      "text/html": [
       "<div>\n",
       "<style scoped>\n",
       "    .dataframe tbody tr th:only-of-type {\n",
       "        vertical-align: middle;\n",
       "    }\n",
       "\n",
       "    .dataframe tbody tr th {\n",
       "        vertical-align: top;\n",
       "    }\n",
       "\n",
       "    .dataframe thead th {\n",
       "        text-align: right;\n",
       "    }\n",
       "</style>\n",
       "<table border=\"1\" class=\"dataframe\">\n",
       "  <thead>\n",
       "    <tr style=\"text-align: right;\">\n",
       "      <th></th>\n",
       "      <th>Code</th>\n",
       "      <th>Place</th>\n",
       "      <th>Latitude</th>\n",
       "      <th>Longitude</th>\n",
       "    </tr>\n",
       "  </thead>\n",
       "  <tbody>\n",
       "    <tr>\n",
       "      <th>0</th>\n",
       "      <td>29601</td>\n",
       "      <td>Greenville</td>\n",
       "      <td>34.847</td>\n",
       "      <td>-82.406</td>\n",
       "    </tr>\n",
       "    <tr>\n",
       "      <th>1</th>\n",
       "      <td>29605</td>\n",
       "      <td>Greenville</td>\n",
       "      <td>34.800</td>\n",
       "      <td>-82.393</td>\n",
       "    </tr>\n",
       "    <tr>\n",
       "      <th>2</th>\n",
       "      <td>29607</td>\n",
       "      <td>Greenville</td>\n",
       "      <td>34.829</td>\n",
       "      <td>-82.352</td>\n",
       "    </tr>\n",
       "    <tr>\n",
       "      <th>3</th>\n",
       "      <td>29615</td>\n",
       "      <td>Greenville</td>\n",
       "      <td>34.866</td>\n",
       "      <td>-82.320</td>\n",
       "    </tr>\n",
       "    <tr>\n",
       "      <th>4</th>\n",
       "      <td>29650</td>\n",
       "      <td>Greer</td>\n",
       "      <td>34.897</td>\n",
       "      <td>-82.267</td>\n",
       "    </tr>\n",
       "  </tbody>\n",
       "</table>\n",
       "</div>"
      ],
      "text/plain": [
       "    Code       Place  Latitude  Longitude\n",
       "0  29601  Greenville    34.847    -82.406\n",
       "1  29605  Greenville    34.800    -82.393\n",
       "2  29607  Greenville    34.829    -82.352\n",
       "3  29615  Greenville    34.866    -82.320\n",
       "4  29650       Greer    34.897    -82.267"
      ]
     },
     "execution_count": 2,
     "metadata": {},
     "output_type": "execute_result"
    }
   ],
   "source": [
    "#Here are the first five rows of the data that will be used for exploration, segmentation and clustering.\n",
    "\n",
    "Greenville = pd.read_csv('C:/Users/codyi/OneDrive/Documents/Greenville zip codes.csv')\n",
    "Greenville.head()"
   ]
  },
  {
   "cell_type": "code",
   "execution_count": null,
   "metadata": {},
   "outputs": [],
   "source": []
  }
 ],
 "metadata": {
  "kernelspec": {
   "display_name": "Python 3",
   "language": "python",
   "name": "python3"
  },
  "language_info": {
   "codemirror_mode": {
    "name": "ipython",
    "version": 3
   },
   "file_extension": ".py",
   "mimetype": "text/x-python",
   "name": "python",
   "nbconvert_exporter": "python",
   "pygments_lexer": "ipython3",
   "version": "3.7.6"
  }
 },
 "nbformat": 4,
 "nbformat_minor": 4
}
